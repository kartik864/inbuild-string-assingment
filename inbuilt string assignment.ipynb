{
 "cells": [
  {
   "cell_type": "code",
   "execution_count": 1,
   "id": "d07d77d7-6a3c-49e5-a1d0-026883832bc6",
   "metadata": {},
   "outputs": [],
   "source": [
    "#1. What is the purpose of the len() function in Python, and how can it be used with strings?\n",
    "\n",
    "#The len() function in Python is used to find out how many characters (letters, numbers, symbols) are in a string. For example, if you have the string \"Hello\", len(\"Hello\") would return 5, because there are 5 characters in the word \"Hello\". It's like a handy tool for counting the length of strings!"
   ]
  },
  {
   "cell_type": "code",
   "execution_count": 2,
   "id": "30365998-5f1c-4e21-843d-02a8002bc4c7",
   "metadata": {},
   "outputs": [
    {
     "name": "stdout",
     "output_type": "stream",
     "text": [
      "HelloWorld\n"
     ]
    }
   ],
   "source": [
    "#2. How can you concatenate two or more strings in Python, and can you provide an example of string concatenation?\n",
    "\n",
    "#you can concatenate (which means joining together) two or more strings by simply using the + operator. Here's example\n",
    "\n",
    "string1 = \"Hello\"\n",
    "string2 = \"World\"\n",
    "concatenated_string = string1 + string2\n",
    "print(concatenated_string)"
   ]
  },
  {
   "cell_type": "code",
   "execution_count": 6,
   "id": "a9a4aebb-dc1f-4cbf-8eff-404a9297a7df",
   "metadata": {},
   "outputs": [
    {
     "name": "stdout",
     "output_type": "stream",
     "text": [
      "Hello, World!\n"
     ]
    }
   ],
   "source": [
    "#3. What is string slicing in Python, and how can you extract a portion of a string using this method?\n",
    "\n",
    "#tring slicing in Python is a way to extract a portion (substring) of a string. You specify the starting and ending positions, and Python gives you the characters in that range\n",
    "my_string = \"Hello, World!\"\n",
    "substring = my_string #[start_index:end_index]\n",
    "print(substring)\n",
    "\n",
    "\n",
    "#start_index is the position of the first character you want to include in the substring.\n",
    "#end_index is the position after the last character you want to include.\n",
    "#For example, if you want to extract \"Hello\" from \"Hello, World!\", you'd use my_string[0:5], because you want characters from position 0 (inclusive) to 5 (exclusive).\n",
    "\n",
    "\n",
    "\n"
   ]
  },
  {
   "cell_type": "code",
   "execution_count": 7,
   "id": "eee24e00-903d-4a1f-845e-fa8ea85f62ec",
   "metadata": {},
   "outputs": [
    {
     "name": "stdout",
     "output_type": "stream",
     "text": [
      "HELLO\n"
     ]
    }
   ],
   "source": [
    "#4. How can you change the case of a string in Python, and can you provide examples of both making a string all uppercase and all lowercase?\n",
    "\n",
    "# you can change the case of a string easily. If you want to make a string all uppercase, you can use the upper() method, like this:\n",
    "\n",
    "my_string = \"hello\"\n",
    "uppercase_string = my_string.upper()\n",
    "print(uppercase_string)\n"
   ]
  },
  {
   "cell_type": "code",
   "execution_count": 8,
   "id": "4704fa1b-cdab-433b-a048-07fa01a14fb2",
   "metadata": {},
   "outputs": [
    {
     "name": "stdout",
     "output_type": "stream",
     "text": [
      "hello\n"
     ]
    }
   ],
   "source": [
    "#And if you want to make a string all lowercase, you can use the lower() method:\n",
    "my_string = \"HELLO\"\n",
    "lowercase_string = my_string.lower()\n",
    "print(lowercase_string)"
   ]
  },
  {
   "cell_type": "code",
   "execution_count": null,
   "id": "4f032789-de71-401c-9983-55d1d4c73f33",
   "metadata": {},
   "outputs": [],
   "source": [
    "#5  What does the split() method do in Python, and how can you split a string using a specific delimiter?"
   ]
  }
 ],
 "metadata": {
  "kernelspec": {
   "display_name": "Python 3 (ipykernel)",
   "language": "python",
   "name": "python3"
  },
  "language_info": {
   "codemirror_mode": {
    "name": "ipython",
    "version": 3
   },
   "file_extension": ".py",
   "mimetype": "text/x-python",
   "name": "python",
   "nbconvert_exporter": "python",
   "pygments_lexer": "ipython3",
   "version": "3.10.8"
  }
 },
 "nbformat": 4,
 "nbformat_minor": 5
}
